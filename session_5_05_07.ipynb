{
 "cells": [
  {
   "cell_type": "markdown",
   "metadata": {},
   "source": [
    "odev 1 - armstrong sorusunu lst comprehesion la cozun"
   ]
  },
  {
   "cell_type": "code",
   "execution_count": 8,
   "metadata": {},
   "outputs": [
    {
     "data": {
      "text/plain": [
       "True"
      ]
     },
     "execution_count": 8,
     "metadata": {},
     "output_type": "execute_result"
    }
   ],
   "source": [
    "sayi = input(\"Lütfen bir sayı giriniz: \")\n",
    "\n",
    "\n",
    "sum([ int(i) ** len(sayi)    for i in sayi ]) == int(sayi)\n",
    "\n",
    " "
   ]
  },
  {
   "cell_type": "markdown",
   "metadata": {},
   "source": [
    "ödev - 2\n",
    "\n",
    "\n",
    "Bir markete gittiniz. Markette her ürünün bir kod numarası var. 1 : Elma 2 : Portakal 3 : Çilek 4 : Yumurta 5 : Havuç 6 : Armut ... vs. şeklinde. Kullanıcıya almak istediği ürünü sorunuz ve kod numarası ile seçim yaptırınız. Çıkış için \"q\" opsiyonunu sununuz. Kullanıcının her ürün seçimi sonrası \" .... elma sepete eklendi\" gibi bir dönüt veriniz. Kullanıcı ürün almaya devam ettikçe ürünleri bir listede toplayınız, almaktan vazgeçtiği durumda teşekkür edip, aldığı toplam ürünleri çıktı veren bir kod yazınız. Çıktı: Teşekkür Ederiz... Sepetinizde Bulunan Ürünler: elma, armut, yumurta ... vs.\n",
    "\n",
    "çıktı:\n",
    "\n",
    "Marketimize Hoş geldiniz\n",
    "Ürünlerimiz:\n",
    "1 : \"Elma\",\n",
    "2 : \"Portakal\",\n",
    "3 : \"Çilek\", \n",
    "4 : \"Yumurta\",\n",
    "5 : \"Havuç\",\n",
    "6 : \"Armut\"     \n",
    "      \n",
    "Sepete Portakal eklendi\n",
    "Sepete Yumurta eklendi\n",
    "Sepete Armut eklendi\n",
    "Sepete Armut eklendi\n",
    "Bizi tercih ettiğiniz için teşekkürler\n",
    "Almış olduğunuz ürünler: ['Portakal', 'Yumurta', 'Armut', 'Armut']"
   ]
  },
  {
   "cell_type": "code",
   "execution_count": 9,
   "metadata": {},
   "outputs": [
    {
     "name": "stdout",
     "output_type": "stream",
     "text": [
      "Marketimize Hosgeldiniz\n",
      "1 : \"Elma\",\n",
      "2 : \"Portakal\",\n",
      "3 : \"Çilek\", \n",
      "4 : \"Yumurta\",\n",
      "5 : \"Havuç\",\n",
      "6 : \"Armut\" \n",
      "Sepete Elma eklendi\n",
      "Sepete Çilek eklendi\n",
      "Sepete Çilek eklendi\n",
      "Bizi tercih ettiginiz icin tesekkur ederiz\n",
      "Almis oldugunuz urunler: ['Elma', 'Çilek', 'Çilek']\n"
     ]
    }
   ],
   "source": [
    "\n",
    "urunler = {1 : \"Elma\",\n",
    "2 : \"Portakal\",\n",
    "3 : \"Çilek\", \n",
    "4 : \"Yumurta\",\n",
    "5 : \"Havuç\",\n",
    "6 : \"Armut\"}\n",
    "\n",
    "print(\"Marketimize Hosgeldiniz\")\n",
    "\n",
    "print(\"\"\"1 : \"Elma\",\n",
    "2 : \"Portakal\",\n",
    "3 : \"Çilek\", \n",
    "4 : \"Yumurta\",\n",
    "5 : \"Havuç\",\n",
    "6 : \"Armut\" \"\"\")\n",
    "\n",
    "sepet = []\n",
    "\n",
    "while True:\n",
    "    \n",
    "    x = input(\"Almak istediginiz urunun numarasini yazin. Urun eklemeyi bitirdiginizde q tusuna basin.\").lower()\n",
    "    \n",
    "    if x !=  \"q\":\n",
    "        sepet.append(urunler[int(x)])\n",
    "        print(f\"Sepete {urunler[int(x)]} eklendi\")\n",
    "        \n",
    "    elif x == \"q\":\n",
    "        print(\"Bizi tercih ettiginiz icin tesekkur ederiz\")\n",
    "        print(f\"Almis oldugunuz urunler: {sepet}\")\n",
    "        break\n",
    "    \n",
    "    \n",
    "    "
   ]
  },
  {
   "cell_type": "markdown",
   "metadata": {},
   "source": [
    "# FUNCTIONS"
   ]
  },
  {
   "cell_type": "markdown",
   "metadata": {},
   "source": [
    "def fonk_ismi(parametre/parametreler):                   defined, tanimlamak demek\n",
    "    islem satiri"
   ]
  },
  {
   "cell_type": "code",
   "execution_count": 10,
   "metadata": {},
   "outputs": [],
   "source": [
    "def kareler_toplami(x,y):  # fonksiyonu tanimlarken paremetre deriz x,y ye\n",
    "    print(x ** 2 + y ** 2)"
   ]
  },
  {
   "cell_type": "code",
   "execution_count": 18,
   "metadata": {},
   "outputs": [
    {
     "name": "stdout",
     "output_type": "stream",
     "text": [
      "34\n"
     ]
    }
   ],
   "source": [
    "kareler_toplami(5,3) # burdaki parantezdeki sayilar argumandir"
   ]
  },
  {
   "cell_type": "code",
   "execution_count": 19,
   "metadata": {},
   "outputs": [],
   "source": [
    "def kareler_toplami_2(x,y):\n",
    "    \n",
    "    \"\"\" Bu fonksiyon iki tane tam sayinin karesinin toplamini verir\"\"\"\n",
    "    print(x**2 + y**2)"
   ]
  },
  {
   "cell_type": "code",
   "execution_count": 20,
   "metadata": {},
   "outputs": [
    {
     "name": "stdout",
     "output_type": "stream",
     "text": [
      "41\n"
     ]
    }
   ],
   "source": [
    "kareler_toplami_2(4,5)"
   ]
  },
  {
   "cell_type": "code",
   "execution_count": 21,
   "metadata": {},
   "outputs": [
    {
     "ename": "TypeError",
     "evalue": "kareler_toplami_2() missing 1 required positional argument: 'y'",
     "output_type": "error",
     "traceback": [
      "\u001b[1;31m---------------------------------------------------------------------------\u001b[0m",
      "\u001b[1;31mTypeError\u001b[0m                                 Traceback (most recent call last)",
      "Cell \u001b[1;32mIn[21], line 1\u001b[0m\n\u001b[1;32m----> 1\u001b[0m \u001b[43mkareler_toplami_2\u001b[49m\u001b[43m(\u001b[49m\u001b[38;5;241;43m5\u001b[39;49m\u001b[43m)\u001b[49m\n",
      "\u001b[1;31mTypeError\u001b[0m: kareler_toplami_2() missing 1 required positional argument: 'y'"
     ]
    }
   ],
   "source": [
    "kareler_toplami_2(5) # Fonksiyona kac paremetre yazdiysak o kadar arguman yazmaliyiz icide"
   ]
  },
  {
   "cell_type": "code",
   "execution_count": 23,
   "metadata": {},
   "outputs": [],
   "source": [
    "def kareler_toplami_3(x,y):\n",
    "    \n",
    "    \n",
    "    print(x**2 + y**2)\n",
    "    \"\"\" Bu fonksiyon iki tane tam sayinin karesinin toplamini verir\"\"\""
   ]
  },
  {
   "cell_type": "code",
   "execution_count": null,
   "metadata": {},
   "outputs": [],
   "source": [
    "kareler_toplami_3(4,3) # Bir fonksiyona acklama yazilcaksa def in hemen ltina yazilmai kareler_toplami_2 deki gibi"
   ]
  },
  {
   "cell_type": "code",
   "execution_count": 24,
   "metadata": {},
   "outputs": [
    {
     "data": {
      "text/plain": [
       "' Bu donksiyon iki tane tam sayinin karesinin toplamini verir'"
      ]
     },
     "execution_count": 24,
     "metadata": {},
     "output_type": "execute_result"
    }
   ],
   "source": [
    "kareler_toplami_2.__doc__"
   ]
  },
  {
   "cell_type": "code",
   "execution_count": 25,
   "metadata": {},
   "outputs": [],
   "source": [
    "kareler_toplami_3.__doc__"
   ]
  },
  {
   "cell_type": "code",
   "execution_count": 26,
   "metadata": {},
   "outputs": [
    {
     "data": {
      "text/plain": [
       "'Return the number of items in a container.'"
      ]
     },
     "execution_count": 26,
     "metadata": {},
     "output_type": "execute_result"
    }
   ],
   "source": [
    "len.__doc__"
   ]
  },
  {
   "cell_type": "code",
   "execution_count": 27,
   "metadata": {},
   "outputs": [],
   "source": [
    "def neset_baba():\n",
    "    print(\"Kadinlar insandir biz insanoglu\")"
   ]
  },
  {
   "cell_type": "code",
   "execution_count": 30,
   "metadata": {},
   "outputs": [
    {
     "name": "stdout",
     "output_type": "stream",
     "text": [
      "Kadinlar insandir biz insanoglu\n"
     ]
    }
   ],
   "source": [
    "neset_baba() "
   ]
  },
  {
   "cell_type": "code",
   "execution_count": 31,
   "metadata": {},
   "outputs": [
    {
     "ename": "TypeError",
     "evalue": "neset_baba() takes 0 positional arguments but 1 was given",
     "output_type": "error",
     "traceback": [
      "\u001b[1;31m---------------------------------------------------------------------------\u001b[0m",
      "\u001b[1;31mTypeError\u001b[0m                                 Traceback (most recent call last)",
      "Cell \u001b[1;32mIn[31], line 1\u001b[0m\n\u001b[1;32m----> 1\u001b[0m \u001b[43mneset_baba\u001b[49m\u001b[43m(\u001b[49m\u001b[38;5;241;43m3\u001b[39;49m\u001b[43m)\u001b[49m\n",
      "\u001b[1;31mTypeError\u001b[0m: neset_baba() takes 0 positional arguments but 1 was given"
     ]
    }
   ],
   "source": [
    "neset_baba(3) # herhangi bir paremetre konulmadigi icin parantez icine arguman yazilmaz"
   ]
  },
  {
   "cell_type": "code",
   "execution_count": 32,
   "metadata": {},
   "outputs": [],
   "source": [
    "def calculator(num1, opr, num2):\n",
    "    \n",
    "    if opr == \"+\":\n",
    "        print(num1 + num2)\n",
    "    elif opr == \"-\":\n",
    "        print(num1 -num2 )\n",
    "    elif opr == \"/\":\n",
    "        print(num1 / num2)\n",
    "    elif opr == \"x\":\n",
    "        print(num1 * num2)\n",
    "    else:\n",
    "        print(\"opr hatali girilid\")"
   ]
  },
  {
   "cell_type": "code",
   "execution_count": 33,
   "metadata": {},
   "outputs": [
    {
     "name": "stdout",
     "output_type": "stream",
     "text": [
      "20\n"
     ]
    }
   ],
   "source": [
    "calculator(5,\"x\",4)"
   ]
  },
  {
   "cell_type": "code",
   "execution_count": 34,
   "metadata": {},
   "outputs": [
    {
     "name": "stdout",
     "output_type": "stream",
     "text": [
      "opr hatali girilid\n"
     ]
    }
   ],
   "source": [
    "calculator(5,\"==\",4)"
   ]
  },
  {
   "cell_type": "code",
   "execution_count": 35,
   "metadata": {},
   "outputs": [
    {
     "name": "stdout",
     "output_type": "stream",
     "text": [
      "54\n"
     ]
    }
   ],
   "source": [
    "calculator(\"5\",\"+\",\"4\")"
   ]
  },
  {
   "cell_type": "code",
   "execution_count": 36,
   "metadata": {},
   "outputs": [
    {
     "name": "stdout",
     "output_type": "stream",
     "text": [
      "9\n"
     ]
    }
   ],
   "source": [
    "calculator(5,\"+\",4)"
   ]
  },
  {
   "cell_type": "code",
   "execution_count": 69,
   "metadata": {},
   "outputs": [],
   "source": [
    "def my_len(x):\n",
    "    \"\"\"len fonksiyonunu begenmedim: Kendi fonksiyonumu yazicam\"\"\"\n",
    "    \n",
    "    count = 0\n",
    "    \n",
    "    for i in x: \n",
    "        count += 1\n",
    "        \n",
    "    print(count)"
   ]
  },
  {
   "cell_type": "code",
   "execution_count": 38,
   "metadata": {},
   "outputs": [
    {
     "name": "stdout",
     "output_type": "stream",
     "text": [
      "7\n"
     ]
    }
   ],
   "source": [
    "my_len(\"Techpro\")"
   ]
  },
  {
   "cell_type": "code",
   "execution_count": 39,
   "metadata": {},
   "outputs": [
    {
     "name": "stdout",
     "output_type": "stream",
     "text": [
      "5\n"
     ]
    }
   ],
   "source": [
    "my_len([1,2,3,4,5])"
   ]
  },
  {
   "cell_type": "code",
   "execution_count": 43,
   "metadata": {},
   "outputs": [],
   "source": [
    "def my_len2(x):\n",
    "    \"\"\"len fonksiyonunu begenmedim: Kendi fonksiyonumu yazicam\"\"\"\n",
    "    \n",
    "    print(sum([1 for i in x ]))\n",
    "        \n",
    "    "
   ]
  },
  {
   "cell_type": "code",
   "execution_count": 44,
   "metadata": {},
   "outputs": [
    {
     "name": "stdout",
     "output_type": "stream",
     "text": [
      "5\n"
     ]
    }
   ],
   "source": [
    "my_len2(\"Ahmet\")"
   ]
  },
  {
   "cell_type": "code",
   "execution_count": 45,
   "metadata": {},
   "outputs": [],
   "source": [
    "def my_len3(x): # int ifadenin kac basamak oldugunu bulur\n",
    "    \n",
    "    count = 0\n",
    "    \n",
    "    for i in str(x):\n",
    "        count += 1\n",
    "        \n",
    "    print(count)     "
   ]
  },
  {
   "cell_type": "code",
   "execution_count": 46,
   "metadata": {},
   "outputs": [
    {
     "name": "stdout",
     "output_type": "stream",
     "text": [
      "4\n"
     ]
    }
   ],
   "source": [
    "my_len3(1894)"
   ]
  },
  {
   "cell_type": "markdown",
   "metadata": {},
   "source": [
    "iki kenar bilgisi bilinen dik ucgenin hipotesunu bulan fonk yazin. Daha sonra ucgenin cevresini hesaplayin"
   ]
  },
  {
   "cell_type": "code",
   "execution_count": 62,
   "metadata": {},
   "outputs": [],
   "source": [
    "def hipo(x,y):\n",
    "    \"\"\"Hipotenusu ve cevreyi bulan fonksiyon\"\"\"\n",
    "    c = (x ** 2 + y ** 2) ** 0.5\n",
    "    cevre = x + y + c\n",
    "    \n",
    "    print(f\"Hipotenus:{c}, Cevre:{cevre}\")"
   ]
  },
  {
   "cell_type": "code",
   "execution_count": 68,
   "metadata": {},
   "outputs": [
    {
     "name": "stdout",
     "output_type": "stream",
     "text": [
      "Hipotenus:5.0, Cevre:12.0\n"
     ]
    },
    {
     "ename": "TypeError",
     "evalue": "unsupported operand type(s) for +: 'int' and 'NoneType'",
     "output_type": "error",
     "traceback": [
      "\u001b[1;31m---------------------------------------------------------------------------\u001b[0m",
      "\u001b[1;31mTypeError\u001b[0m                                 Traceback (most recent call last)",
      "Cell \u001b[1;32mIn[68], line 1\u001b[0m\n\u001b[1;32m----> 1\u001b[0m cevre \u001b[38;5;241m=\u001b[39m \u001b[38;5;241;43m3\u001b[39;49m\u001b[43m \u001b[49m\u001b[38;5;241;43m+\u001b[39;49m\u001b[43m \u001b[49m\u001b[38;5;241;43m4\u001b[39;49m\u001b[43m \u001b[49m\u001b[38;5;241;43m+\u001b[39;49m\u001b[43m \u001b[49m\u001b[43mhipo\u001b[49m\u001b[43m \u001b[49m\u001b[43m(\u001b[49m\u001b[38;5;241;43m3\u001b[39;49m\u001b[43m,\u001b[49m\u001b[38;5;241;43m4\u001b[39;49m\u001b[43m)\u001b[49m\n\u001b[0;32m      2\u001b[0m cevre\n",
      "\u001b[1;31mTypeError\u001b[0m: unsupported operand type(s) for +: 'int' and 'NoneType'"
     ]
    }
   ],
   "source": [
    "cevre = 3 + 4 + hipo (3,4)  # hipo() nontype dir o yuzden topliyamaz.\n",
    "cevre"
   ]
  },
  {
   "cell_type": "code",
   "execution_count": 64,
   "metadata": {},
   "outputs": [
    {
     "name": "stdout",
     "output_type": "stream",
     "text": [
      "Hipotenus:13.0, Cevre:30.0\n"
     ]
    }
   ],
   "source": [
    "hipo(5,12)"
   ]
  },
  {
   "cell_type": "code",
   "execution_count": 65,
   "metadata": {},
   "outputs": [],
   "source": [
    "def hipo2(x,y):\n",
    "    return (x ** 2 + y ** 2) ** 0.5  "
   ]
  },
  {
   "cell_type": "code",
   "execution_count": 67,
   "metadata": {},
   "outputs": [
    {
     "data": {
      "text/plain": [
       "12.0"
      ]
     },
     "execution_count": 67,
     "metadata": {},
     "output_type": "execute_result"
    }
   ],
   "source": [
    "cevre = 3 + 4 + hipo2 (3,4)\n",
    "cevre"
   ]
  },
  {
   "cell_type": "code",
   "execution_count": 70,
   "metadata": {},
   "outputs": [],
   "source": [
    "def adin_kadar_kazan(name):\n",
    "    \"\"\"Bu fonksiyon ismin icinde gecen sesli harf sayisini bulur\"\"\"\n",
    "    \n",
    "    counter = 0\n",
    "    \n",
    "    for i in name.lower():\n",
    "        \n",
    "        if i in \"aeiıoöuü\":\n",
    "            counter += 1\n",
    "    print(counter)\n",
    "    "
   ]
  },
  {
   "cell_type": "code",
   "execution_count": 71,
   "metadata": {},
   "outputs": [
    {
     "name": "stdout",
     "output_type": "stream",
     "text": [
      "2\n"
     ]
    }
   ],
   "source": [
    "adin_kadar_kazan(\"Hakan\")"
   ]
  },
  {
   "cell_type": "code",
   "execution_count": 72,
   "metadata": {},
   "outputs": [
    {
     "name": "stdout",
     "output_type": "stream",
     "text": [
      "2\n"
     ]
    },
    {
     "ename": "TypeError",
     "evalue": "unsupported operand type(s) for *: 'NoneType' and 'int'",
     "output_type": "error",
     "traceback": [
      "\u001b[1;31m---------------------------------------------------------------------------\u001b[0m",
      "\u001b[1;31mTypeError\u001b[0m                                 Traceback (most recent call last)",
      "Cell \u001b[1;32mIn[72], line 1\u001b[0m\n\u001b[1;32m----> 1\u001b[0m \u001b[43madin_kadar_kazan\u001b[49m\u001b[43m(\u001b[49m\u001b[38;5;124;43m\"\u001b[39;49m\u001b[38;5;124;43mHakan\u001b[39;49m\u001b[38;5;124;43m\"\u001b[39;49m\u001b[43m)\u001b[49m\u001b[43m \u001b[49m\u001b[38;5;241;43m*\u001b[39;49m\u001b[43m \u001b[49m\u001b[38;5;241;43m1000\u001b[39;49m\n",
      "\u001b[1;31mTypeError\u001b[0m: unsupported operand type(s) for *: 'NoneType' and 'int'"
     ]
    }
   ],
   "source": [
    "adin_kadar_kazan(\"Hakan\") * 1000 # print sonucu gosterir baska islem yapamayiz. Ama return de baska islemde kullanabiliriz"
   ]
  },
  {
   "cell_type": "code",
   "execution_count": 74,
   "metadata": {},
   "outputs": [],
   "source": [
    "def adin_kadar_kazan2(name):\n",
    "    \"\"\"Bu fonksiyon ismin icinde gecen sesli harf sayisini bulur\"\"\"\n",
    "    \n",
    "    counter = 0\n",
    "    \n",
    "    for i in name.lower():\n",
    "        \n",
    "        if i in \"aeiıoöuü\":\n",
    "            counter += 1\n",
    "    return(counter)\n",
    "    "
   ]
  },
  {
   "cell_type": "code",
   "execution_count": 76,
   "metadata": {},
   "outputs": [
    {
     "data": {
      "text/plain": [
       "2000"
      ]
     },
     "execution_count": 76,
     "metadata": {},
     "output_type": "execute_result"
    }
   ],
   "source": [
    "adin_kadar_kazan2(\"Yavuz\") * 1000"
   ]
  },
  {
   "cell_type": "code",
   "execution_count": null,
   "metadata": {},
   "outputs": [],
   "source": [
    "sayi = input(\"Lütfen bir sayı giriniz: \")\n",
    "\n",
    "\n",
    "sum([ int(i) ** len(sayi)    for i in sayi ]) == int(sayi)"
   ]
  },
  {
   "cell_type": "code",
   "execution_count": 80,
   "metadata": {},
   "outputs": [],
   "source": [
    "def isAmrstrong(sayi):\n",
    "    \n",
    "    sayi = str(sayi)\n",
    "    \n",
    "    return sum([ int(i) ** len(sayi)    for i in sayi ]) == int(sayi)"
   ]
  },
  {
   "cell_type": "code",
   "execution_count": 81,
   "metadata": {},
   "outputs": [
    {
     "data": {
      "text/plain": [
       "True"
      ]
     },
     "execution_count": 81,
     "metadata": {},
     "output_type": "execute_result"
    }
   ],
   "source": [
    "isAmrstrong(407)"
   ]
  },
  {
   "cell_type": "code",
   "execution_count": 85,
   "metadata": {},
   "outputs": [],
   "source": [
    "def isAmrstrong2(sayi):\n",
    "\n",
    "    sayi = str(sayi)\n",
    "    uzunluk = len(sayi)\n",
    "    toplam = 0\n",
    "\n",
    "    for i in sayi:\n",
    "        toplam += int(i) ** uzunluk\n",
    "\n",
    "    if int(sayi) == toplam:\n",
    "        print(f\"girilen sayı: {sayi} armstrong bir sayıdır\")\n",
    "    else:\n",
    "        print(f\"girilen sayı: {sayi} armstrong bir sayı değildir\")"
   ]
  },
  {
   "cell_type": "code",
   "execution_count": 87,
   "metadata": {},
   "outputs": [
    {
     "name": "stdout",
     "output_type": "stream",
     "text": [
      "girilen sayı: 404 armstrong bir sayı değildir\n"
     ]
    }
   ],
   "source": [
    "isAmrstrong2(404)"
   ]
  },
  {
   "cell_type": "markdown",
   "metadata": {},
   "source": [
    "odev 1 -  sayinin asal sayi olup olmadigini kontrol eden fonksiyon yazin"
   ]
  },
  {
   "cell_type": "code",
   "execution_count": null,
   "metadata": {},
   "outputs": [],
   "source": []
  },
  {
   "cell_type": "markdown",
   "metadata": {},
   "source": [
    "odev 2 -sayinin lasa sayi olup olmadigini kontrol eden bir fonksiyon yazin "
   ]
  },
  {
   "cell_type": "markdown",
   "metadata": {},
   "source": []
  }
 ],
 "metadata": {
  "kernelspec": {
   "display_name": "Python 3",
   "language": "python",
   "name": "python3"
  },
  "language_info": {
   "codemirror_mode": {
    "name": "ipython",
    "version": 3
   },
   "file_extension": ".py",
   "mimetype": "text/x-python",
   "name": "python",
   "nbconvert_exporter": "python",
   "pygments_lexer": "ipython3",
   "version": "3.12.3"
  }
 },
 "nbformat": 4,
 "nbformat_minor": 2
}
